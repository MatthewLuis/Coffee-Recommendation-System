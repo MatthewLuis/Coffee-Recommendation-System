{
 "cells": [
  {
   "cell_type": "markdown",
   "id": "de9494cb",
   "metadata": {},
   "source": [
    "# Load Dataset"
   ]
  },
  {
   "cell_type": "code",
   "execution_count": 1,
   "id": "a4ee7930",
   "metadata": {},
   "outputs": [
    {
     "data": {
      "text/html": [
       "<div>\n",
       "<style scoped>\n",
       "    .dataframe tbody tr th:only-of-type {\n",
       "        vertical-align: middle;\n",
       "    }\n",
       "\n",
       "    .dataframe tbody tr th {\n",
       "        vertical-align: top;\n",
       "    }\n",
       "\n",
       "    .dataframe thead th {\n",
       "        text-align: right;\n",
       "    }\n",
       "</style>\n",
       "<table border=\"1\" class=\"dataframe\">\n",
       "  <thead>\n",
       "    <tr style=\"text-align: right;\">\n",
       "      <th></th>\n",
       "      <th>Coffee Name</th>\n",
       "      <th>Tasting Notes</th>\n",
       "      <th>Description</th>\n",
       "    </tr>\n",
       "  </thead>\n",
       "  <tbody>\n",
       "    <tr>\n",
       "      <th>0</th>\n",
       "      <td>Barbary Coast Blend</td>\n",
       "      <td>Earthy, Dried Spice, Full Body</td>\n",
       "      <td>Hearty, dark roasted Arabica blend with bold, ...</td>\n",
       "    </tr>\n",
       "    <tr>\n",
       "      <th>1</th>\n",
       "      <td>Bourbon Pecan</td>\n",
       "      <td>Nutty Pecan, Sweet Bourbon, Smooth Finish</td>\n",
       "      <td>Light roasted Arabica blend enhanced with the ...</td>\n",
       "    </tr>\n",
       "    <tr>\n",
       "      <th>2</th>\n",
       "      <td>Breakfast Blend</td>\n",
       "      <td>Milk Chocolate, Smooth Body, Bright Finish</td>\n",
       "      <td>Well balanced Arabica blend with complex finis...</td>\n",
       "    </tr>\n",
       "  </tbody>\n",
       "</table>\n",
       "</div>"
      ],
      "text/plain": [
       "           Coffee Name                               Tasting Notes  \\\n",
       "0  Barbary Coast Blend              Earthy, Dried Spice, Full Body   \n",
       "1        Bourbon Pecan   Nutty Pecan, Sweet Bourbon, Smooth Finish   \n",
       "2      Breakfast Blend  Milk Chocolate, Smooth Body, Bright Finish   \n",
       "\n",
       "                                         Description  \n",
       "0  Hearty, dark roasted Arabica blend with bold, ...  \n",
       "1  Light roasted Arabica blend enhanced with the ...  \n",
       "2  Well balanced Arabica blend with complex finis...  "
      ]
     },
     "execution_count": 1,
     "metadata": {},
     "output_type": "execute_result"
    }
   ],
   "source": [
    "# Import Pandas\n",
    "import pandas as pd\n",
    "\n",
    "# Load Metadata\n",
    "metadata = pd.read_csv('CleaningDataset.csv', low_memory=False)\n",
    "\n",
    "# Print the first three rows\n",
    "metadata.head(3)"
   ]
  },
  {
   "cell_type": "code",
   "execution_count": 2,
   "id": "b3d399ec",
   "metadata": {},
   "outputs": [
    {
     "data": {
      "text/plain": [
       "0    Hearty, dark roasted Arabica blend with bold, ...\n",
       "1    Light roasted Arabica blend enhanced with the ...\n",
       "2    Well balanced Arabica blend with complex finis...\n",
       "3    A great combination of rich, creamy coffee and...\n",
       "4    A smooth blend of Colombian and Central Americ...\n",
       "Name: Description, dtype: object"
      ]
     },
     "execution_count": 2,
     "metadata": {},
     "output_type": "execute_result"
    }
   ],
   "source": [
    "#Print plot overviews of the first 5 Coffee Descriptions.\n",
    "metadata['Description'].head()"
   ]
  },
  {
   "cell_type": "markdown",
   "id": "2b2538df",
   "metadata": {},
   "source": [
    "# Identifying Term Frequency for Description"
   ]
  },
  {
   "cell_type": "code",
   "execution_count": 3,
   "id": "c544a9dd",
   "metadata": {},
   "outputs": [
    {
     "name": "stdout",
     "output_type": "stream",
     "text": [
      "(310, 79)\n"
     ]
    }
   ],
   "source": [
    "# Activate CountVectorizer\n",
    "from sklearn.feature_extraction.text import CountVectorizer\n",
    "\n",
    "# Count Vectorizer\n",
    "vect = CountVectorizer(analyzer='word',stop_words='english',lowercase=True)  \n",
    "vects = vect.fit_transform(metadata['Description'])\n",
    "\n",
    "td = pd.DataFrame(vects.todense()).iloc[:78]  \n",
    "td.columns = vect.get_feature_names()\n",
    "term_document_matrix = td.T\n",
    "term_document_matrix.columns = ['Blend '+str(i) for i in range(1, 79)]\n",
    "term_document_matrix['total_count'] = term_document_matrix.sum(axis=1)\n",
    "\n",
    "#Number of Unique Words\n",
    "print(term_document_matrix.shape)\n"
   ]
  },
  {
   "cell_type": "code",
   "execution_count": 21,
   "id": "0635d834",
   "metadata": {
    "scrolled": true
   },
   "outputs": [
    {
     "data": {
      "text/plain": [
       "<AxesSubplot:>"
      ]
     },
     "execution_count": 21,
     "metadata": {},
     "output_type": "execute_result"
    },
    {
     "data": {
      "image/png": "[encoded data removed]",
      "text/plain": [
       "<Figure size 432x288 with 1 Axes>"
      ]
     },
     "metadata": {
      "needs_background": "light"
     },
     "output_type": "display_data"
    }
   ],
   "source": [
    "# Top 25 words \n",
    "term_document_matrix = term_document_matrix.sort_values(by ='total_count',ascending=False)[:25] \n",
    "\n",
    "text_file = open('TF-.txt', 'w')\n",
    "term_document_matrix['total_count'].plot.bar()"
   ]
  },
  {
   "cell_type": "markdown",
   "id": "6fe04ea7",
   "metadata": {},
   "source": [
    "# Identifying Term Frequency for Tasting Notes"
   ]
  },
  {
   "cell_type": "code",
   "execution_count": 5,
   "id": "179c5d2b",
   "metadata": {},
   "outputs": [
    {
     "name": "stdout",
     "output_type": "stream",
     "text": [
      "(101, 79)\n"
     ]
    }
   ],
   "source": [
    "# Activate CountVectorizer\n",
    "from sklearn.feature_extraction.text import CountVectorizer\n",
    "\n",
    "# Count Vectorizer\n",
    "vect = CountVectorizer(analyzer='word',stop_words='english',lowercase=True)  \n",
    "vects = vect.fit_transform(metadata['Tasting Notes'])\n",
    "\n",
    "td = pd.DataFrame(vects.todense()).iloc[:78]  \n",
    "td.columns = vect.get_feature_names()\n",
    "term_document_matrix = td.T\n",
    "term_document_matrix.columns = ['Blend '+str(i) for i in range(1, 79)]\n",
    "term_document_matrix['total_count'] = term_document_matrix.sum(axis=1)\n",
    "print(term_document_matrix.shape)\n"
   ]
  },
  {
   "cell_type": "code",
   "execution_count": 6,
   "id": "ad7f7a68",
   "metadata": {
    "scrolled": true
   },
   "outputs": [
    {
     "data": {
      "text/plain": [
       "<AxesSubplot:>"
      ]
     },
     "execution_count": 6,
     "metadata": {},
     "output_type": "execute_result"
    },
    {
     "data": {
      "image/png": "[encoded data removed]",
      "text/plain": [
       "<Figure size 432x288 with 1 Axes>"
      ]
     },
     "metadata": {
      "needs_background": "light"
     },
     "output_type": "display_data"
    }
   ],
   "source": [
    "# Top 25 words \n",
    "top = term_document_matrix.sort_values(by ='total_count',ascending=False)[:25] \n",
    "\n",
    "\n",
    "top['total_count'].plot.bar()"
   ]
  },
  {
   "cell_type": "markdown",
   "id": "f494aae0",
   "metadata": {},
   "source": [
    "# Recommendation based on Description"
   ]
  },
  {
   "cell_type": "code",
   "execution_count": 7,
   "id": "c21a7e40",
   "metadata": {},
   "outputs": [
    {
     "data": {
      "text/plain": [
       "(78, 310)"
      ]
     },
     "execution_count": 7,
     "metadata": {},
     "output_type": "execute_result"
    }
   ],
   "source": [
    "#Import TfIdfVectorizer from scikit-learn\n",
    "from sklearn.feature_extraction.text import TfidfVectorizer\n",
    "\n",
    "#Define a TF-IDF Vectorizer Object. \n",
    "#Remove all english stop words such as 'the', 'a'\n",
    "#Sets all words to lowercase\n",
    "tfidf = TfidfVectorizer(analyzer='word',stop_words='english',lowercase=True)\n",
    "\n",
    "#Replace NaN with an empty string\n",
    "metadata['Description'] = metadata['Description'].fillna('')\n",
    "\n",
    "#Construct the required TF-IDF matrix by fitting and transforming the data\n",
    "tfidf_matrix = tfidf.fit_transform(metadata['Description'])\n",
    "\n",
    "#Output the shape of tfidf_matrix\n",
    "tfidf_matrix.shape"
   ]
  },
  {
   "cell_type": "code",
   "execution_count": 8,
   "id": "13ec2548",
   "metadata": {},
   "outputs": [
    {
     "data": {
      "text/plain": [
       "['50',\n",
       " 'aa',\n",
       " 'accented',\n",
       " 'acid',\n",
       " 'acidity',\n",
       " 'adding',\n",
       " 'affectionately',\n",
       " 'african',\n",
       " 'aftertaste',\n",
       " 'alajeula',\n",
       " 'almond',\n",
       " 'almonds',\n",
       " 'american',\n",
       " 'americans',\n",
       " 'amistad',\n",
       " 'antigua',\n",
       " 'ape',\n",
       " 'arabica',\n",
       " 'aroma',\n",
       " 'auction',\n",
       " 'award',\n",
       " 'baked',\n",
       " 'balance',\n",
       " 'balanced',\n",
       " 'bean',\n",
       " 'beans',\n",
       " 'best',\n",
       " 'blend',\n",
       " 'blended',\n",
       " 'blue',\n",
       " 'blueberry',\n",
       " 'boded',\n",
       " 'bodied',\n",
       " 'body',\n",
       " 'bold',\n",
       " 'boquete',\n",
       " 'bouquet',\n",
       " 'bourbon',\n",
       " 'brazil',\n",
       " 'breakfast',\n",
       " 'brew',\n",
       " 'bright',\n",
       " 'brimming',\n",
       " 'brooding',\n",
       " 'brown',\n",
       " 'buns',\n",
       " 'bursting',\n",
       " 'buttery',\n",
       " 'caffeine',\n",
       " 'cajamarca',\n",
       " 'caramel',\n",
       " 'cedar',\n",
       " 'central',\n",
       " 'certified',\n",
       " 'character',\n",
       " 'cherry',\n",
       " 'chestnut',\n",
       " 'chiapas',\n",
       " 'chocolate',\n",
       " 'cinnamon',\n",
       " 'classic',\n",
       " 'cloves',\n",
       " 'cocoa',\n",
       " 'coffee',\n",
       " 'coffees',\n",
       " 'cold',\n",
       " 'colombia',\n",
       " 'colombian',\n",
       " 'color',\n",
       " 'combination',\n",
       " 'combined',\n",
       " 'combines',\n",
       " 'combining',\n",
       " 'complex',\n",
       " 'continents',\n",
       " 'costa',\n",
       " 'county',\n",
       " 'cream',\n",
       " 'creamy',\n",
       " 'create',\n",
       " 'created',\n",
       " 'crisp',\n",
       " 'cup',\n",
       " 'dark',\n",
       " 'darkest',\n",
       " 'daru',\n",
       " 'decadent',\n",
       " 'decaffeinated',\n",
       " 'decaffeination',\n",
       " 'deep',\n",
       " 'delicious',\n",
       " 'deliciously',\n",
       " 'direct',\n",
       " 'distinctive',\n",
       " 'district',\n",
       " 'doka',\n",
       " 'don',\n",
       " 'elegant',\n",
       " 'enhanced',\n",
       " 'enticing',\n",
       " 'estate',\n",
       " 'ethiopia',\n",
       " 'ethiopian',\n",
       " 'ethiopians',\n",
       " 'evenly',\n",
       " 'excellent',\n",
       " 'exotic',\n",
       " 'fair',\n",
       " 'family',\n",
       " 'famous',\n",
       " 'fantastic',\n",
       " 'farm',\n",
       " 'farmer',\n",
       " 'farms',\n",
       " 'favorite',\n",
       " 'feel',\n",
       " 'finca',\n",
       " 'fine',\n",
       " 'finish',\n",
       " 'flavor',\n",
       " 'flavored',\n",
       " 'flavorful',\n",
       " 'flavoring',\n",
       " 'flavorings',\n",
       " 'flavors',\n",
       " 'floral',\n",
       " 'forward',\n",
       " 'fragrance',\n",
       " 'frangelico',\n",
       " 'french',\n",
       " 'fresh',\n",
       " 'fudge',\n",
       " 'gayo',\n",
       " 'gold',\n",
       " 'golden',\n",
       " 'good',\n",
       " 'great',\n",
       " 'growing',\n",
       " 'grown',\n",
       " 'guatemala',\n",
       " 'harmonious',\n",
       " 'hawaiian',\n",
       " 'hazelnut',\n",
       " 'hearty',\n",
       " 'heavy',\n",
       " 'heritage',\n",
       " 'high',\n",
       " 'hint',\n",
       " 'honey',\n",
       " 'hualalai',\n",
       " 'huila',\n",
       " 'indonesian',\n",
       " 'intense',\n",
       " 'interlaced',\n",
       " 'irish',\n",
       " 'italian',\n",
       " 'jamaica',\n",
       " 'java',\n",
       " 'kenya',\n",
       " 'kiaguthu',\n",
       " 'knows',\n",
       " 'kona',\n",
       " 'la',\n",
       " 'laced',\n",
       " 'las',\n",
       " 'lemon',\n",
       " 'lemony',\n",
       " 'light',\n",
       " 'limu',\n",
       " 'linger',\n",
       " 'liqueur',\n",
       " 'liquid',\n",
       " 'lively',\n",
       " 'll',\n",
       " 'lot',\n",
       " 'lover',\n",
       " 'lovers',\n",
       " 'low',\n",
       " 'luscious',\n",
       " 'macadamia',\n",
       " 'madres',\n",
       " 'magnificently',\n",
       " 'make',\n",
       " 'maranello',\n",
       " 'medium',\n",
       " 'mellow',\n",
       " 'mexican',\n",
       " 'mexico',\n",
       " 'middle',\n",
       " 'mild',\n",
       " 'milled',\n",
       " 'minus',\n",
       " 'mixture',\n",
       " 'moderate',\n",
       " 'moka',\n",
       " 'mountain',\n",
       " 'mountains',\n",
       " 'mouth',\n",
       " 'mouthfeel',\n",
       " 'mt',\n",
       " 'mélange',\n",
       " 'natural',\n",
       " 'naturally',\n",
       " 'notes',\n",
       " 'nuanced',\n",
       " 'nut',\n",
       " 'nuts',\n",
       " 'nutty',\n",
       " 'nyeri',\n",
       " 'offers',\n",
       " 'oil',\n",
       " 'oils',\n",
       " 'ops',\n",
       " 'orange',\n",
       " 'oregon',\n",
       " 'organic',\n",
       " 'origin',\n",
       " 'othaya',\n",
       " 'overtones',\n",
       " 'overwhelmed',\n",
       " 'owned',\n",
       " 'panama',\n",
       " 'partnerships',\n",
       " 'pecans',\n",
       " 'peru',\n",
       " 'peterson',\n",
       " 'poas',\n",
       " 'process',\n",
       " 'processed',\n",
       " 'quality',\n",
       " 'raspberry',\n",
       " 'regal',\n",
       " 'region',\n",
       " 'relationships',\n",
       " 'resulting',\n",
       " 'rica',\n",
       " 'rican',\n",
       " 'rich',\n",
       " 'richest',\n",
       " 'richness',\n",
       " 'roast',\n",
       " 'roasted',\n",
       " 'robust',\n",
       " 'round',\n",
       " 'rounded',\n",
       " 'rum',\n",
       " 'salinas',\n",
       " 'semi',\n",
       " 'sharp',\n",
       " 'sierra',\n",
       " 'silken',\n",
       " 'simply',\n",
       " 'single',\n",
       " 'sip',\n",
       " 'slightly',\n",
       " 'slopes',\n",
       " 'small',\n",
       " 'smoky',\n",
       " 'smooth',\n",
       " 'smoothness',\n",
       " 'soft',\n",
       " 'south',\n",
       " 'southeastern',\n",
       " 'sparkling',\n",
       " 'special',\n",
       " 'spice',\n",
       " 'spiced',\n",
       " 'spiciness',\n",
       " 'spicy',\n",
       " 'spirits',\n",
       " 'strong',\n",
       " 'style',\n",
       " 'subtle',\n",
       " 'sugar',\n",
       " 'sumatra',\n",
       " 'superb',\n",
       " 'sure',\n",
       " 'sweet',\n",
       " 'sweetness',\n",
       " 'syrupy',\n",
       " 'tang',\n",
       " 'tangy',\n",
       " 'taste',\n",
       " 'tempt',\n",
       " 'temptation',\n",
       " 'throat',\n",
       " 'time',\n",
       " 'toasted',\n",
       " 'toddy',\n",
       " 'tones',\n",
       " 'touch',\n",
       " 'trade',\n",
       " 'truffle',\n",
       " 'truffles',\n",
       " 'turbinado',\n",
       " 'unique',\n",
       " 'using',\n",
       " 'vanilla',\n",
       " 'variety',\n",
       " 'velvety',\n",
       " 'verbena',\n",
       " 'viennese',\n",
       " 'want',\n",
       " 'water',\n",
       " 'wild',\n",
       " 'winey',\n",
       " 'winner',\n",
       " 'winning',\n",
       " 'wonderful',\n",
       " 'zest']"
      ]
     },
     "execution_count": 8,
     "metadata": {},
     "output_type": "execute_result"
    }
   ],
   "source": [
    "tfidf.get_feature_names()"
   ]
  },
  {
   "cell_type": "code",
   "execution_count": 9,
   "id": "3b63c27b",
   "metadata": {},
   "outputs": [],
   "source": [
    "# Import linear_kernel\n",
    "from sklearn.metrics.pairwise import linear_kernel\n",
    "\n",
    "# Compute the cosine similarity matrix\n",
    "cosine_sim = linear_kernel(tfidf_matrix, tfidf_matrix)"
   ]
  },
  {
   "cell_type": "code",
   "execution_count": 10,
   "id": "b7065537",
   "metadata": {},
   "outputs": [
    {
     "data": {
      "text/plain": [
       "(78, 78)"
      ]
     },
     "execution_count": 10,
     "metadata": {},
     "output_type": "execute_result"
    }
   ],
   "source": [
    "cosine_sim.shape"
   ]
  },
  {
   "cell_type": "code",
   "execution_count": 11,
   "id": "b39eb4ac",
   "metadata": {
    "scrolled": true
   },
   "outputs": [
    {
     "data": {
      "text/plain": [
       "array([0.06303551, 1.        , 0.03435994, 0.        , 0.16204378,\n",
       "       0.03751442, 0.1047496 , 0.05220398, 0.01354826, 0.08947585,\n",
       "       0.1035884 , 0.        , 0.01317103, 0.04637267, 0.01250463,\n",
       "       0.02828801, 0.0497072 , 0.10201494, 0.11879988, 0.09642281,\n",
       "       0.09025849, 0.07473008, 0.03020199, 0.27367482, 0.03700567,\n",
       "       0.04720272, 0.05535121, 0.05120416, 0.11499106, 0.06595802,\n",
       "       0.04029915, 0.21436814, 0.06530241, 0.04380946, 0.13808386,\n",
       "       0.03704985, 0.02666882, 0.02311476, 0.03375353, 0.10345156,\n",
       "       0.1049023 , 0.08790399, 0.08109316, 0.09465135, 0.16324527,\n",
       "       0.02759209, 0.07612926, 0.06411835, 0.07527193, 0.04393266,\n",
       "       0.02705854, 0.02499498, 0.04456052, 0.07155462, 0.02669501,\n",
       "       0.03044811, 0.07586936, 0.0488234 , 0.05206793, 0.1272307 ,\n",
       "       0.14311768, 0.        , 0.07304489, 0.11535491, 0.03268061,\n",
       "       0.02653578, 0.03122631, 0.04725396, 0.03295675, 0.01274235,\n",
       "       0.03848393, 0.028606  , 0.04673628, 0.        , 0.2818797 ,\n",
       "       0.08372182, 0.05349848, 0.03052287])"
      ]
     },
     "execution_count": 11,
     "metadata": {},
     "output_type": "execute_result"
    }
   ],
   "source": [
    "cosine_sim[1]"
   ]
  },
  {
   "cell_type": "code",
   "execution_count": 12,
   "id": "ed23ca86",
   "metadata": {
    "scrolled": true
   },
   "outputs": [
    {
     "data": {
      "text/plain": [
       "Coffee Name\n",
       "Barbary Coast Blend          0\n",
       "Bourbon Pecan                1\n",
       "Breakfast Blend              2\n",
       "Cappuccino Fudge             3\n",
       "Caramel Nut Fudge            4\n",
       "Chocolate Macadamia Nut      5\n",
       "Chocolate Raspberry Cream    6\n",
       "Cinnamon Bun                 7\n",
       "Cinnamon Frangelico          8\n",
       "Cinnamon Nut Sugar Cookie    9\n",
       "dtype: int64"
      ]
     },
     "execution_count": 12,
     "metadata": {},
     "output_type": "execute_result"
    }
   ],
   "source": [
    "#Construct a reverse map of indices and Coffee Names\n",
    "indices = pd.Series(metadata.index, index=metadata['Coffee Name']).drop_duplicates()\n",
    "\n",
    "indices[:10]"
   ]
  },
  {
   "cell_type": "code",
   "execution_count": 13,
   "id": "9a318e9e",
   "metadata": {},
   "outputs": [],
   "source": [
    "text_file = open('RecommendationDescription.txt', 'w')\n",
    "\n",
    "text_file.write(\"CSCI 187 - Project Coffee \\n\" )\n",
    "text_file.write(\"Matthew Rahardja \\n\" )\n",
    "text_file.write(\"This Text File contains the top 5 similarity results\\n\" )\n",
    "text_file.write(\"for each Coffee Blend based on description \\n\\n\")\n",
    "\n",
    "\n",
    "for ind in metadata.index:\n",
    "    Selected_Blend = metadata['Coffee Name'][ind]\n",
    "    Selected_Description = metadata['Description'][ind]\n",
    "    idx = indices[Selected_Blend]\n",
    "\n",
    "    # Get the pairwise similarity scores of all blends with that blend\n",
    "    sim_scores = list(enumerate(cosine_sim[idx]))\n",
    "\n",
    "    # Sort the movies based on the similarity scores\n",
    "    sim_scores = sorted(sim_scores, key=lambda x: x[1], reverse=True)\n",
    "\n",
    "    # Get the scores of the 5 most similar coffee\n",
    "    sim_scores = sim_scores[1:6]\n",
    "\n",
    "    # Get the movie indices\n",
    "    coffee_indices = [i[0] for i in sim_scores]\n",
    "\n",
    "    # Return the top 10 most similar coffee\n",
    "    \n",
    "    text_file.write(\"%s\\n\" % Selected_Blend)\n",
    "    text_file.write(\"%s\\n\" % Selected_Description)\n",
    "\n",
    "    text_file.write(\"\\nBlend Index         Blend Name\\n\")\n",
    "    text_file.write(\"%s\\n\" % metadata['Coffee Name'].iloc[coffee_indices])\n",
    "    text_file.write(\"\\nSimilarity Score\\n\")\n",
    "    text_file.write(\"%s\\n\\n\\n\\n\" % sim_scores)\n",
    "\n",
    "text_file.close()\n"
   ]
  },
  {
   "cell_type": "markdown",
   "id": "53ec2a86",
   "metadata": {},
   "source": [
    "# Recommendation Based on Tasting Notes"
   ]
  },
  {
   "cell_type": "code",
   "execution_count": 14,
   "id": "53a7dedc",
   "metadata": {},
   "outputs": [
    {
     "data": {
      "text/plain": [
       "(78, 101)"
      ]
     },
     "execution_count": 14,
     "metadata": {},
     "output_type": "execute_result"
    }
   ],
   "source": [
    "#Import TfIdfVectorizer from scikit-learn\n",
    "from sklearn.feature_extraction.text import TfidfVectorizer\n",
    "\n",
    "#Define a TF-IDF Vectorizer Object. \n",
    "#Remove all english stop words such as 'the', 'a'\n",
    "#Sets all words to lowercase\n",
    "tfidf = TfidfVectorizer(analyzer='word',stop_words='english',lowercase=True)\n",
    "\n",
    "#Replace NaN with an empty string\n",
    "metadata['Tasting Notes'] = metadata['Tasting Notes'].fillna('')\n",
    "\n",
    "#Construct the required TF-IDF matrix by fitting and transforming the data\n",
    "tfidf_matrix = tfidf.fit_transform(metadata['Tasting Notes'])\n",
    "\n",
    "#Output the shape of tfidf_matrix\n",
    "tfidf_matrix.shape"
   ]
  },
  {
   "cell_type": "code",
   "execution_count": 15,
   "id": "26a450f0",
   "metadata": {},
   "outputs": [
    {
     "data": {
      "text/plain": [
       "['acidity',\n",
       " 'apple',\n",
       " 'baked',\n",
       " 'balanced',\n",
       " 'berry',\n",
       " 'bittersweet',\n",
       " 'black',\n",
       " 'blackberry',\n",
       " 'blossom',\n",
       " 'blueberry',\n",
       " 'body',\n",
       " 'bold',\n",
       " 'bourbon',\n",
       " 'bright',\n",
       " 'brown',\n",
       " 'butter',\n",
       " 'butterscotch',\n",
       " 'buttery',\n",
       " 'cane',\n",
       " 'caramel',\n",
       " 'caramelized',\n",
       " 'cedar',\n",
       " 'cherry',\n",
       " 'chocolate',\n",
       " 'cinnamon',\n",
       " 'citrus',\n",
       " 'clean',\n",
       " 'cocoa',\n",
       " 'cream',\n",
       " 'creamy',\n",
       " 'dark',\n",
       " 'deep',\n",
       " 'dried',\n",
       " 'dutch',\n",
       " 'earthiness',\n",
       " 'earthy',\n",
       " 'fig',\n",
       " 'finish',\n",
       " 'floral',\n",
       " 'florals',\n",
       " 'frangelico',\n",
       " 'fresh',\n",
       " 'fruit',\n",
       " 'fudge',\n",
       " 'grape',\n",
       " 'hazelnut',\n",
       " 'heavy',\n",
       " 'hint',\n",
       " 'hips',\n",
       " 'honey',\n",
       " 'intense',\n",
       " 'irish',\n",
       " 'jasmine',\n",
       " 'lavender',\n",
       " 'lemon',\n",
       " 'liqueur',\n",
       " 'mango',\n",
       " 'marjoram',\n",
       " 'mild',\n",
       " 'milk',\n",
       " 'molasses',\n",
       " 'notes',\n",
       " 'nutmeg',\n",
       " 'nuts',\n",
       " 'nutty',\n",
       " 'orange',\n",
       " 'peach',\n",
       " 'pecan',\n",
       " 'raisins',\n",
       " 'raspberry',\n",
       " 'rich',\n",
       " 'roasted',\n",
       " 'rose',\n",
       " 'round',\n",
       " 'rounded',\n",
       " 'rustic',\n",
       " 'semisweet',\n",
       " 'sharp',\n",
       " 'silky',\n",
       " 'smoky',\n",
       " 'smooth',\n",
       " 'soft',\n",
       " 'spice',\n",
       " 'spicy',\n",
       " 'stone',\n",
       " 'subtle',\n",
       " 'sugar',\n",
       " 'sugars',\n",
       " 'sweet',\n",
       " 'sweetness',\n",
       " 'syrupy',\n",
       " 'tangerine',\n",
       " 'toasted',\n",
       " 'toffee',\n",
       " 'turbinado',\n",
       " 'vanilla',\n",
       " 'verbena',\n",
       " 'walnut',\n",
       " 'whiskey',\n",
       " 'wild',\n",
       " 'zest']"
      ]
     },
     "execution_count": 15,
     "metadata": {},
     "output_type": "execute_result"
    }
   ],
   "source": [
    "tfidf.get_feature_names()"
   ]
  },
  {
   "cell_type": "code",
   "execution_count": 16,
   "id": "5bec47bf",
   "metadata": {},
   "outputs": [],
   "source": [
    "# Import linear_kernel\n",
    "from sklearn.metrics.pairwise import linear_kernel\n",
    "\n",
    "# Compute the cosine similarity matrix\n",
    "cosine_sim = linear_kernel(tfidf_matrix, tfidf_matrix)"
   ]
  },
  {
   "cell_type": "code",
   "execution_count": 17,
   "id": "bf4f050b",
   "metadata": {},
   "outputs": [
    {
     "data": {
      "text/plain": [
       "(78, 78)"
      ]
     },
     "execution_count": 17,
     "metadata": {},
     "output_type": "execute_result"
    }
   ],
   "source": [
    "cosine_sim.shape"
   ]
  },
  {
   "cell_type": "code",
   "execution_count": 18,
   "id": "49796e24",
   "metadata": {
    "scrolled": true
   },
   "outputs": [
    {
     "data": {
      "text/plain": [
       "array([0.        , 1.        , 0.18803599, 0.15004225, 0.29231339,\n",
       "       0.15772381, 0.08650415, 0.16812361, 0.08742161, 0.26629077,\n",
       "       0.08919698, 0.07640756, 0.        , 0.11233114, 0.        ,\n",
       "       0.16539101, 0.19540693, 0.08919698, 0.17408865, 0.11603567,\n",
       "       0.13710735, 0.19897312, 0.        , 0.41040108, 0.15680633,\n",
       "       0.        , 0.        , 0.        , 0.32120175, 0.32120175,\n",
       "       0.        , 0.        , 0.        , 0.07024672, 0.22928213,\n",
       "       0.07486486, 0.        , 0.        , 0.06735895, 0.07974793,\n",
       "       0.        , 0.        , 0.08470553, 0.29226708, 0.11024532,\n",
       "       0.07119279, 0.08838272, 0.        , 0.07617651, 0.        ,\n",
       "       0.08339627, 0.        , 0.        , 0.        , 0.        ,\n",
       "       0.        , 0.23453785, 0.        , 0.3460151 , 0.06857572,\n",
       "       0.        , 0.18803599, 0.        , 0.28621255, 0.07410997,\n",
       "       0.14991258, 0.32357635, 0.        , 0.07529373, 0.07975852,\n",
       "       0.        , 0.08996209, 0.09133706, 0.        , 0.31358025,\n",
       "       0.41040108, 0.        , 0.        ])"
      ]
     },
     "execution_count": 18,
     "metadata": {},
     "output_type": "execute_result"
    }
   ],
   "source": [
    "cosine_sim[1]"
   ]
  },
  {
   "cell_type": "code",
   "execution_count": 19,
   "id": "87bb9a47",
   "metadata": {
    "scrolled": true
   },
   "outputs": [
    {
     "data": {
      "text/plain": [
       "Coffee Name\n",
       "Barbary Coast Blend          0\n",
       "Bourbon Pecan                1\n",
       "Breakfast Blend              2\n",
       "Cappuccino Fudge             3\n",
       "Caramel Nut Fudge            4\n",
       "Chocolate Macadamia Nut      5\n",
       "Chocolate Raspberry Cream    6\n",
       "Cinnamon Bun                 7\n",
       "Cinnamon Frangelico          8\n",
       "Cinnamon Nut Sugar Cookie    9\n",
       "dtype: int64"
      ]
     },
     "execution_count": 19,
     "metadata": {},
     "output_type": "execute_result"
    }
   ],
   "source": [
    "#Construct a reverse map of indices and Coffee Names\n",
    "indices = pd.Series(metadata.index, index=metadata['Coffee Name']).drop_duplicates()\n",
    "\n",
    "indices[:10]"
   ]
  },
  {
   "cell_type": "code",
   "execution_count": 20,
   "id": "af9f47d3",
   "metadata": {},
   "outputs": [],
   "source": [
    "text_file = open('RecommendationFlavor.txt', 'w')\n",
    "\n",
    "text_file.write(\"CSCI 187 - Project Coffee \\n\" )\n",
    "text_file.write(\"Matthew Rahardja \\n\" )\n",
    "text_file.write(\"This txt file contains the top 5 similarity results\\n\" )\n",
    "text_file.write(\"for each Coffee Blend based on Flavor Notes \\n\\n\")\n",
    "\n",
    "\n",
    "for ind in metadata.index:\n",
    "    Selected_Blend = metadata['Coffee Name'][ind]\n",
    "    Selected_Description = metadata['Tasting Notes'][ind]\n",
    "    idx = indices[Selected_Blend]\n",
    "\n",
    "    # Get the pairwise similarity scores of all blends with that blend\n",
    "    sim_scores = list(enumerate(cosine_sim[idx]))\n",
    "\n",
    "    # Sort the movies based on the similarity scores\n",
    "    sim_scores = sorted(sim_scores, key=lambda x: x[1], reverse=True)\n",
    "\n",
    "    # Get the scores of the 5 most similar coffee\n",
    "    sim_scores = sim_scores[1:6]\n",
    "\n",
    "    # Get the movie indices\n",
    "    coffee_indices = [i[0] for i in sim_scores]\n",
    "\n",
    "    # Return the top 10 most similar coffee\n",
    "    \n",
    "    text_file.write(\"%s\\n\" % Selected_Blend)\n",
    "    text_file.write(\"%s\\n\" % Selected_Description)\n",
    "\n",
    "    text_file.write(\"\\nBlend Index         Blend Name\\n\")\n",
    "    text_file.write(\"%s\\n\" % metadata['Coffee Name'].iloc[coffee_indices])\n",
    "    text_file.write(\"\\nSimilarity Score\\n\")\n",
    "    text_file.write(\"%s\\n\\n\\n\\n\" % sim_scores)\n",
    "\n",
    "text_file.close()\n"
   ]
  },
  {
   "cell_type": "code",
   "execution_count": null,
   "id": "a839b75b",
   "metadata": {},
   "outputs": [],
   "source": []
  },
  {
   "cell_type": "code",
   "execution_count": null,
   "id": "a6d0af6c",
   "metadata": {},
   "outputs": [],
   "source": []
  },
  {
   "cell_type": "code",
   "execution_count": null,
   "id": "14c323ae",
   "metadata": {},
   "outputs": [],
   "source": []
  }
 ],
 "metadata": {
  "kernelspec": {
   "display_name": "Python 3 (ipykernel)",
   "language": "python",
   "name": "python3"
  },
  "language_info": {
   "codemirror_mode": {
    "name": "ipython",
    "version": 3
   },
   "file_extension": ".py",
   "mimetype": "text/x-python",
   "name": "python",
   "nbconvert_exporter": "python",
   "pygments_lexer": "ipython3",
   "version": "3.9.7"
  }
 },
 "nbformat": 4,
 "nbformat_minor": 5
}
