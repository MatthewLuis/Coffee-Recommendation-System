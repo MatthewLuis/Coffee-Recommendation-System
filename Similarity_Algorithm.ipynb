{
  "cells": [
    {
      "cell_type": "markdown",
      "id": "de9494cb",
      "metadata": {
        "id": "de9494cb"
      },
      "source": [
        "# Load Dataset"
      ]
    },
    {
      "cell_type": "code",
      "execution_count": 1,
      "id": "a4ee7930",
      "metadata": {
        "id": "a4ee7930",
        "colab": {
          "base_uri": "https://localhost:8080/",
          "height": 296
        },
        "outputId": "5f56e192-722c-4347-b382-dd87d4867084"
      },
      "outputs": [
        {
          "output_type": "display_data",
          "data": {
            "text/plain": [
              "<IPython.core.display.HTML object>"
            ],
            "text/html": [
              "\n",
              "     <input type=\"file\" id=\"files-02c6112b-805f-42e1-8620-d84f982ef6f1\" name=\"files[]\" multiple disabled\n",
              "        style=\"border:none\" />\n",
              "     <output id=\"result-02c6112b-805f-42e1-8620-d84f982ef6f1\">\n",
              "      Upload widget is only available when the cell has been executed in the\n",
              "      current browser session. Please rerun this cell to enable.\n",
              "      </output>\n",
              "      <script>// Copyright 2017 Google LLC\n",
              "//\n",
              "// Licensed under the Apache License, Version 2.0 (the \"License\");\n",
              "// you may not use this file except in compliance with the License.\n",
              "// You may obtain a copy of the License at\n",
              "//\n",
              "//      http://www.apache.org/licenses/LICENSE-2.0\n",
              "//\n",
              "// Unless required by applicable law or agreed to in writing, software\n",
              "// distributed under the License is distributed on an \"AS IS\" BASIS,\n",
              "// WITHOUT WARRANTIES OR CONDITIONS OF ANY KIND, either express or implied.\n",
              "// See the License for the specific language governing permissions and\n",
              "// limitations under the License.\n",
              "\n",
              "/**\n",
              " * @fileoverview Helpers for google.colab Python module.\n",
              " */\n",
              "(function(scope) {\n",
              "function span(text, styleAttributes = {}) {\n",
              "  const element = document.createElement('span');\n",
              "  element.textContent = text;\n",
              "  for (const key of Object.keys(styleAttributes)) {\n",
              "    element.style[key] = styleAttributes[key];\n",
              "  }\n",
              "  return element;\n",
              "}\n",
              "\n",
              "// Max number of bytes which will be uploaded at a time.\n",
              "const MAX_PAYLOAD_SIZE = 100 * 1024;\n",
              "\n",
              "function _uploadFiles(inputId, outputId) {\n",
              "  const steps = uploadFilesStep(inputId, outputId);\n",
              "  const outputElement = document.getElementById(outputId);\n",
              "  // Cache steps on the outputElement to make it available for the next call\n",
              "  // to uploadFilesContinue from Python.\n",
              "  outputElement.steps = steps;\n",
              "\n",
              "  return _uploadFilesContinue(outputId);\n",
              "}\n",
              "\n",
              "// This is roughly an async generator (not supported in the browser yet),\n",
              "// where there are multiple asynchronous steps and the Python side is going\n",
              "// to poll for completion of each step.\n",
              "// This uses a Promise to block the python side on completion of each step,\n",
              "// then passes the result of the previous step as the input to the next step.\n",
              "function _uploadFilesContinue(outputId) {\n",
              "  const outputElement = document.getElementById(outputId);\n",
              "  const steps = outputElement.steps;\n",
              "\n",
              "  const next = steps.next(outputElement.lastPromiseValue);\n",
              "  return Promise.resolve(next.value.promise).then((value) => {\n",
              "    // Cache the last promise value to make it available to the next\n",
              "    // step of the generator.\n",
              "    outputElement.lastPromiseValue = value;\n",
              "    return next.value.response;\n",
              "  });\n",
              "}\n",
              "\n",
              "/**\n",
              " * Generator function which is called between each async step of the upload\n",
              " * process.\n",
              " * @param {string} inputId Element ID of the input file picker element.\n",
              " * @param {string} outputId Element ID of the output display.\n",
              " * @return {!Iterable<!Object>} Iterable of next steps.\n",
              " */\n",
              "function* uploadFilesStep(inputId, outputId) {\n",
              "  const inputElement = document.getElementById(inputId);\n",
              "  inputElement.disabled = false;\n",
              "\n",
              "  const outputElement = document.getElementById(outputId);\n",
              "  outputElement.innerHTML = '';\n",
              "\n",
              "  const pickedPromise = new Promise((resolve) => {\n",
              "    inputElement.addEventListener('change', (e) => {\n",
              "      resolve(e.target.files);\n",
              "    });\n",
              "  });\n",
              "\n",
              "  const cancel = document.createElement('button');\n",
              "  inputElement.parentElement.appendChild(cancel);\n",
              "  cancel.textContent = 'Cancel upload';\n",
              "  const cancelPromise = new Promise((resolve) => {\n",
              "    cancel.onclick = () => {\n",
              "      resolve(null);\n",
              "    };\n",
              "  });\n",
              "\n",
              "  // Wait for the user to pick the files.\n",
              "  const files = yield {\n",
              "    promise: Promise.race([pickedPromise, cancelPromise]),\n",
              "    response: {\n",
              "      action: 'starting',\n",
              "    }\n",
              "  };\n",
              "\n",
              "  cancel.remove();\n",
              "\n",
              "  // Disable the input element since further picks are not allowed.\n",
              "  inputElement.disabled = true;\n",
              "\n",
              "  if (!files) {\n",
              "    return {\n",
              "      response: {\n",
              "        action: 'complete',\n",
              "      }\n",
              "    };\n",
              "  }\n",
              "\n",
              "  for (const file of files) {\n",
              "    const li = document.createElement('li');\n",
              "    li.append(span(file.name, {fontWeight: 'bold'}));\n",
              "    li.append(span(\n",
              "        `(${file.type || 'n/a'}) - ${file.size} bytes, ` +\n",
              "        `last modified: ${\n",
              "            file.lastModifiedDate ? file.lastModifiedDate.toLocaleDateString() :\n",
              "                                    'n/a'} - `));\n",
              "    const percent = span('0% done');\n",
              "    li.appendChild(percent);\n",
              "\n",
              "    outputElement.appendChild(li);\n",
              "\n",
              "    const fileDataPromise = new Promise((resolve) => {\n",
              "      const reader = new FileReader();\n",
              "      reader.onload = (e) => {\n",
              "        resolve(e.target.result);\n",
              "      };\n",
              "      reader.readAsArrayBuffer(file);\n",
              "    });\n",
              "    // Wait for the data to be ready.\n",
              "    let fileData = yield {\n",
              "      promise: fileDataPromise,\n",
              "      response: {\n",
              "        action: 'continue',\n",
              "      }\n",
              "    };\n",
              "\n",
              "    // Use a chunked sending to avoid message size limits. See b/62115660.\n",
              "    let position = 0;\n",
              "    do {\n",
              "      const length = Math.min(fileData.byteLength - position, MAX_PAYLOAD_SIZE);\n",
              "      const chunk = new Uint8Array(fileData, position, length);\n",
              "      position += length;\n",
              "\n",
              "      const base64 = btoa(String.fromCharCode.apply(null, chunk));\n",
              "      yield {\n",
              "        response: {\n",
              "          action: 'append',\n",
              "          file: file.name,\n",
              "          data: base64,\n",
              "        },\n",
              "      };\n",
              "\n",
              "      let percentDone = fileData.byteLength === 0 ?\n",
              "          100 :\n",
              "          Math.round((position / fileData.byteLength) * 100);\n",
              "      percent.textContent = `${percentDone}% done`;\n",
              "\n",
              "    } while (position < fileData.byteLength);\n",
              "  }\n",
              "\n",
              "  // All done.\n",
              "  yield {\n",
              "    response: {\n",
              "      action: 'complete',\n",
              "    }\n",
              "  };\n",
              "}\n",
              "\n",
              "scope.google = scope.google || {};\n",
              "scope.google.colab = scope.google.colab || {};\n",
              "scope.google.colab._files = {\n",
              "  _uploadFiles,\n",
              "  _uploadFilesContinue,\n",
              "};\n",
              "})(self);\n",
              "</script> "
            ]
          },
          "metadata": {}
        },
        {
          "output_type": "stream",
          "name": "stdout",
          "text": [
            "Saving CleaningDataset.csv to CleaningDataset.csv\n"
          ]
        },
        {
          "output_type": "execute_result",
          "data": {
            "text/plain": [
              "           Coffee Name                               Tasting Notes  \\\n",
              "0  Barbary Coast Blend              Earthy, Dried Spice, Full Body   \n",
              "1        Bourbon Pecan   Nutty Pecan, Sweet Bourbon, Smooth Finish   \n",
              "2      Breakfast Blend  Milk Chocolate, Smooth Body, Bright Finish   \n",
              "\n",
              "                                         Description  \n",
              "0  Hearty, dark roasted Arabica blend with bold, ...  \n",
              "1  Light roasted Arabica blend enhanced with the ...  \n",
              "2  Well balanced Arabica blend with complex finis...  "
            ],
            "text/html": [
              "\n",
              "  <div id=\"df-e75bbc74-b4e3-4694-9582-bcab8d5ceca3\">\n",
              "    <div class=\"colab-df-container\">\n",
              "      <div>\n",
              "<style scoped>\n",
              "    .dataframe tbody tr th:only-of-type {\n",
              "        vertical-align: middle;\n",
              "    }\n",
              "\n",
              "    .dataframe tbody tr th {\n",
              "        vertical-align: top;\n",
              "    }\n",
              "\n",
              "    .dataframe thead th {\n",
              "        text-align: right;\n",
              "    }\n",
              "</style>\n",
              "<table border=\"1\" class=\"dataframe\">\n",
              "  <thead>\n",
              "    <tr style=\"text-align: right;\">\n",
              "      <th></th>\n",
              "      <th>Coffee Name</th>\n",
              "      <th>Tasting Notes</th>\n",
              "      <th>Description</th>\n",
              "    </tr>\n",
              "  </thead>\n",
              "  <tbody>\n",
              "    <tr>\n",
              "      <th>0</th>\n",
              "      <td>Barbary Coast Blend</td>\n",
              "      <td>Earthy, Dried Spice, Full Body</td>\n",
              "      <td>Hearty, dark roasted Arabica blend with bold, ...</td>\n",
              "    </tr>\n",
              "    <tr>\n",
              "      <th>1</th>\n",
              "      <td>Bourbon Pecan</td>\n",
              "      <td>Nutty Pecan, Sweet Bourbon, Smooth Finish</td>\n",
              "      <td>Light roasted Arabica blend enhanced with the ...</td>\n",
              "    </tr>\n",
              "    <tr>\n",
              "      <th>2</th>\n",
              "      <td>Breakfast Blend</td>\n",
              "      <td>Milk Chocolate, Smooth Body, Bright Finish</td>\n",
              "      <td>Well balanced Arabica blend with complex finis...</td>\n",
              "    </tr>\n",
              "  </tbody>\n",
              "</table>\n",
              "</div>\n",
              "      <button class=\"colab-df-convert\" onclick=\"convertToInteractive('df-e75bbc74-b4e3-4694-9582-bcab8d5ceca3')\"\n",
              "              title=\"Convert this dataframe to an interactive table.\"\n",
              "              style=\"display:none;\">\n",
              "        \n",
              "  <svg xmlns=\"http://www.w3.org/2000/svg\" height=\"24px\"viewBox=\"0 0 24 24\"\n",
              "       width=\"24px\">\n",
              "    <path d=\"M0 0h24v24H0V0z\" fill=\"none\"/>\n",
              "    <path d=\"M18.56 5.44l.94 2.06.94-2.06 2.06-.94-2.06-.94-.94-2.06-.94 2.06-2.06.94zm-11 1L8.5 8.5l.94-2.06 2.06-.94-2.06-.94L8.5 2.5l-.94 2.06-2.06.94zm10 10l.94 2.06.94-2.06 2.06-.94-2.06-.94-.94-2.06-.94 2.06-2.06.94z\"/><path d=\"M17.41 7.96l-1.37-1.37c-.4-.4-.92-.59-1.43-.59-.52 0-1.04.2-1.43.59L10.3 9.45l-7.72 7.72c-.78.78-.78 2.05 0 2.83L4 21.41c.39.39.9.59 1.41.59.51 0 1.02-.2 1.41-.59l7.78-7.78 2.81-2.81c.8-.78.8-2.07 0-2.86zM5.41 20L4 18.59l7.72-7.72 1.47 1.35L5.41 20z\"/>\n",
              "  </svg>\n",
              "      </button>\n",
              "      \n",
              "  <style>\n",
              "    .colab-df-container {\n",
              "      display:flex;\n",
              "      flex-wrap:wrap;\n",
              "      gap: 12px;\n",
              "    }\n",
              "\n",
              "    .colab-df-convert {\n",
              "      background-color: #E8F0FE;\n",
              "      border: none;\n",
              "      border-radius: 50%;\n",
              "      cursor: pointer;\n",
              "      display: none;\n",
              "      fill: #1967D2;\n",
              "      height: 32px;\n",
              "      padding: 0 0 0 0;\n",
              "      width: 32px;\n",
              "    }\n",
              "\n",
              "    .colab-df-convert:hover {\n",
              "      background-color: #E2EBFA;\n",
              "      box-shadow: 0px 1px 2px rgba(60, 64, 67, 0.3), 0px 1px 3px 1px rgba(60, 64, 67, 0.15);\n",
              "      fill: #174EA6;\n",
              "    }\n",
              "\n",
              "    [theme=dark] .colab-df-convert {\n",
              "      background-color: #3B4455;\n",
              "      fill: #D2E3FC;\n",
              "    }\n",
              "\n",
              "    [theme=dark] .colab-df-convert:hover {\n",
              "      background-color: #434B5C;\n",
              "      box-shadow: 0px 1px 3px 1px rgba(0, 0, 0, 0.15);\n",
              "      filter: drop-shadow(0px 1px 2px rgba(0, 0, 0, 0.3));\n",
              "      fill: #FFFFFF;\n",
              "    }\n",
              "  </style>\n",
              "\n",
              "      <script>\n",
              "        const buttonEl =\n",
              "          document.querySelector('#df-e75bbc74-b4e3-4694-9582-bcab8d5ceca3 button.colab-df-convert');\n",
              "        buttonEl.style.display =\n",
              "          google.colab.kernel.accessAllowed ? 'block' : 'none';\n",
              "\n",
              "        async function convertToInteractive(key) {\n",
              "          const element = document.querySelector('#df-e75bbc74-b4e3-4694-9582-bcab8d5ceca3');\n",
              "          const dataTable =\n",
              "            await google.colab.kernel.invokeFunction('convertToInteractive',\n",
              "                                                     [key], {});\n",
              "          if (!dataTable) return;\n",
              "\n",
              "          const docLinkHtml = 'Like what you see? Visit the ' +\n",
              "            '<a target=\"_blank\" href=https://colab.research.google.com/notebooks/data_table.ipynb>data table notebook</a>'\n",
              "            + ' to learn more about interactive tables.';\n",
              "          element.innerHTML = '';\n",
              "          dataTable['output_type'] = 'display_data';\n",
              "          await google.colab.output.renderOutput(dataTable, element);\n",
              "          const docLink = document.createElement('div');\n",
              "          docLink.innerHTML = docLinkHtml;\n",
              "          element.appendChild(docLink);\n",
              "        }\n",
              "      </script>\n",
              "    </div>\n",
              "  </div>\n",
              "  "
            ]
          },
          "metadata": {},
          "execution_count": 1
        }
      ],
      "source": [
        "# Import Pandas\n",
        "import pandas as pd\n",
        "\n",
        "# For Colab\n",
        "from google.colab import files\n",
        "metadata = files.upload()\n",
        "\n",
        "# Load Metadata\n",
        "metadata = pd.read_csv('CleaningDataset.csv', low_memory=False)\n",
        "# Print the first three rows\n",
        "metadata.head(3)"
      ]
    },
    {
      "cell_type": "code",
      "execution_count": 2,
      "id": "b3d399ec",
      "metadata": {
        "id": "b3d399ec",
        "outputId": "a03fc322-cf31-4680-a5a5-215216218b2c",
        "colab": {
          "base_uri": "https://localhost:8080/"
        }
      },
      "outputs": [
        {
          "output_type": "execute_result",
          "data": {
            "text/plain": [
              "0    Hearty, dark roasted Arabica blend with bold, ...\n",
              "1    Light roasted Arabica blend enhanced with the ...\n",
              "2    Well balanced Arabica blend with complex finis...\n",
              "3    A great combination of rich, creamy coffee and...\n",
              "4    A smooth blend of Colombian and Central Americ...\n",
              "Name: Description, dtype: object"
            ]
          },
          "metadata": {},
          "execution_count": 2
        }
      ],
      "source": [
        "#Print plot overviews of the first 5 Coffee Descriptions.\n",
        "metadata['Description'].head()"
      ]
    },
    {
      "cell_type": "markdown",
      "id": "2b2538df",
      "metadata": {
        "id": "2b2538df"
      },
      "source": [
        "# Identifying Term Frequency for Description"
      ]
    },
    {
      "cell_type": "code",
      "execution_count": 3,
      "id": "c544a9dd",
      "metadata": {
        "id": "c544a9dd",
        "outputId": "da783e6e-ab38-4498-c27c-cd44893f2ae2",
        "colab": {
          "base_uri": "https://localhost:8080/"
        }
      },
      "outputs": [
        {
          "output_type": "stream",
          "name": "stdout",
          "text": [
            "(310, 79)\n"
          ]
        },
        {
          "output_type": "stream",
          "name": "stderr",
          "text": [
            "/usr/local/lib/python3.7/dist-packages/sklearn/utils/deprecation.py:87: FutureWarning: Function get_feature_names is deprecated; get_feature_names is deprecated in 1.0 and will be removed in 1.2. Please use get_feature_names_out instead.\n",
            "  warnings.warn(msg, category=FutureWarning)\n"
          ]
        }
      ],
      "source": [
        "# Activate CountVectorizer\n",
        "from sklearn.feature_extraction.text import CountVectorizer\n",
        "\n",
        "# Count Vectorizer\n",
        "vect = CountVectorizer(analyzer='word',stop_words='english',lowercase=True)  \n",
        "vects = vect.fit_transform(metadata['Description'])\n",
        "\n",
        "td = pd.DataFrame(vects.todense()).iloc[:78]  \n",
        "td.columns = vect.get_feature_names()\n",
        "term_document_matrix = td.T\n",
        "term_document_matrix.columns = ['Blend '+str(i) for i in range(1, 79)]\n",
        "term_document_matrix['total_count'] = term_document_matrix.sum(axis=1)\n",
        "\n",
        "#Number of Unique Words\n",
        "print(term_document_matrix.shape)\n"
      ]
    },
    {
      "cell_type": "code",
      "execution_count": 4,
      "id": "0635d834",
      "metadata": {
        "scrolled": true,
        "id": "0635d834",
        "outputId": "28c7f4c4-3196-4739-f143-ceaf475422a9",
        "colab": {
          "base_uri": "https://localhost:8080/",
          "height": 325
        }
      },
      "outputs": [
        {
          "output_type": "execute_result",
          "data": {
            "text/plain": [
              "<matplotlib.axes._subplots.AxesSubplot at 0x7f3f21e8e210>"
            ]
          },
          "metadata": {},
          "execution_count": 4
        },
        {
          "output_type": "display_data",
          "data": {
            "text/plain": [
              "<Figure size 432x288 with 1 Axes>"
            ],
            "image/png": "[encoded data removed]"
          },
          "metadata": {
            "needs_background": "light"
          }
        }
      ],
      "source": [
        "# Top 25 words \n",
        "term_document_matrix = term_document_matrix.sort_values(by ='total_count',ascending=False)[:25] \n",
        "\n",
        "text_file = open('TF-.txt', 'w')\n",
        "term_document_matrix['total_count'].plot.bar()"
      ]
    },
    {
      "cell_type": "markdown",
      "id": "6fe04ea7",
      "metadata": {
        "id": "6fe04ea7"
      },
      "source": [
        "# Identifying Term Frequency for Tasting Notes"
      ]
    },
    {
      "cell_type": "code",
      "execution_count": 5,
      "id": "179c5d2b",
      "metadata": {
        "id": "179c5d2b",
        "outputId": "406f9b12-4730-4648-845d-54c69e020f57",
        "colab": {
          "base_uri": "https://localhost:8080/"
        }
      },
      "outputs": [
        {
          "output_type": "stream",
          "name": "stdout",
          "text": [
            "(101, 79)\n"
          ]
        }
      ],
      "source": [
        "# Activate CountVectorizer\n",
        "from sklearn.feature_extraction.text import CountVectorizer\n",
        "\n",
        "# Count Vectorizer\n",
        "vect = CountVectorizer(analyzer='word',stop_words='english',lowercase=True)  \n",
        "vects = vect.fit_transform(metadata['Tasting Notes'])\n",
        "\n",
        "td = pd.DataFrame(vects.todense()).iloc[:78]  \n",
        "td.columns = vect.get_feature_names()\n",
        "term_document_matrix = td.T\n",
        "term_document_matrix.columns = ['Blend '+str(i) for i in range(1, 79)]\n",
        "term_document_matrix['total_count'] = term_document_matrix.sum(axis=1)\n",
        "print(term_document_matrix.shape)\n"
      ]
    },
    {
      "cell_type": "code",
      "execution_count": 6,
      "id": "ad7f7a68",
      "metadata": {
        "scrolled": true,
        "id": "ad7f7a68",
        "outputId": "7ba0506a-bc8e-4082-f36f-f28887ed5107",
        "colab": {
          "base_uri": "https://localhost:8080/",
          "height": 326
        }
      },
      "outputs": [
        {
          "output_type": "execute_result",
          "data": {
            "text/plain": [
              "<matplotlib.axes._subplots.AxesSubplot at 0x7f3f21d80f90>"
            ]
          },
          "metadata": {},
          "execution_count": 6
        },
        {
          "output_type": "display_data",
          "data": {
            "text/plain": [
              "<Figure size 432x288 with 1 Axes>"
            ],
            "image/png": "[encoded data removed]"
          },
          "metadata": {
            "needs_background": "light"
          }
        }
      ],
      "source": [
        "# Top 25 words \n",
        "top = term_document_matrix.sort_values(by ='total_count',ascending=False)[:25] \n",
        "\n",
        "\n",
        "top['total_count'].plot.bar()"
      ]
    },
    {
      "cell_type": "markdown",
      "id": "f494aae0",
      "metadata": {
        "id": "f494aae0"
      },
      "source": [
        "# Recommendation based on Description"
      ]
    },
    {
      "cell_type": "code",
      "execution_count": 7,
      "id": "c21a7e40",
      "metadata": {
        "id": "c21a7e40",
        "outputId": "90a6af26-3424-4008-9dc6-b4dccb3b88b0",
        "colab": {
          "base_uri": "https://localhost:8080/"
        }
      },
      "outputs": [
        {
          "output_type": "execute_result",
          "data": {
            "text/plain": [
              "(78, 310)"
            ]
          },
          "metadata": {},
          "execution_count": 7
        }
      ],
      "source": [
        "#Import TfIdfVectorizer from scikit-learn\n",
        "from sklearn.feature_extraction.text import TfidfVectorizer\n",
        "\n",
        "#Define a TF-IDF Vectorizer Object. \n",
        "#Remove all english stop words such as 'the', 'a'\n",
        "#Sets all words to lowercase\n",
        "tfidf = TfidfVectorizer(analyzer='word',stop_words='english',lowercase=True)\n",
        "\n",
        "#Replace NaN with an empty string\n",
        "metadata['Description'] = metadata['Description'].fillna('')\n",
        "\n",
        "#Construct the required TF-IDF matrix by fitting and transforming the data\n",
        "tfidf_matrix = tfidf.fit_transform(metadata['Description'])\n",
        "\n",
        "#Output the shape of tfidf_matrix\n",
        "tfidf_matrix.shape"
      ]
    },
    {
      "cell_type": "code",
      "execution_count": 8,
      "id": "13ec2548",
      "metadata": {
        "id": "13ec2548",
        "outputId": "e99748c8-c01f-48d3-b2e7-27f9c0609d99",
        "colab": {
          "base_uri": "https://localhost:8080/"
        }
      },
      "outputs": [
        {
          "output_type": "execute_result",
          "data": {
            "text/plain": [
              "['50',\n",
              " 'aa',\n",
              " 'accented',\n",
              " 'acid',\n",
              " 'acidity',\n",
              " 'adding',\n",
              " 'affectionately',\n",
              " 'african',\n",
              " 'aftertaste',\n",
              " 'alajeula',\n",
              " 'almond',\n",
              " 'almonds',\n",
              " 'american',\n",
              " 'americans',\n",
              " 'amistad',\n",
              " 'antigua',\n",
              " 'ape',\n",
              " 'arabica',\n",
              " 'aroma',\n",
              " 'auction',\n",
              " 'award',\n",
              " 'baked',\n",
              " 'balance',\n",
              " 'balanced',\n",
              " 'bean',\n",
              " 'beans',\n",
              " 'best',\n",
              " 'blend',\n",
              " 'blended',\n",
              " 'blue',\n",
              " 'blueberry',\n",
              " 'boded',\n",
              " 'bodied',\n",
              " 'body',\n",
              " 'bold',\n",
              " 'boquete',\n",
              " 'bouquet',\n",
              " 'bourbon',\n",
              " 'brazil',\n",
              " 'breakfast',\n",
              " 'brew',\n",
              " 'bright',\n",
              " 'brimming',\n",
              " 'brooding',\n",
              " 'brown',\n",
              " 'buns',\n",
              " 'bursting',\n",
              " 'buttery',\n",
              " 'caffeine',\n",
              " 'cajamarca',\n",
              " 'caramel',\n",
              " 'cedar',\n",
              " 'central',\n",
              " 'certified',\n",
              " 'character',\n",
              " 'cherry',\n",
              " 'chestnut',\n",
              " 'chiapas',\n",
              " 'chocolate',\n",
              " 'cinnamon',\n",
              " 'classic',\n",
              " 'cloves',\n",
              " 'cocoa',\n",
              " 'coffee',\n",
              " 'coffees',\n",
              " 'cold',\n",
              " 'colombia',\n",
              " 'colombian',\n",
              " 'color',\n",
              " 'combination',\n",
              " 'combined',\n",
              " 'combines',\n",
              " 'combining',\n",
              " 'complex',\n",
              " 'continents',\n",
              " 'costa',\n",
              " 'county',\n",
              " 'cream',\n",
              " 'creamy',\n",
              " 'create',\n",
              " 'created',\n",
              " 'crisp',\n",
              " 'cup',\n",
              " 'dark',\n",
              " 'darkest',\n",
              " 'daru',\n",
              " 'decadent',\n",
              " 'decaffeinated',\n",
              " 'decaffeination',\n",
              " 'deep',\n",
              " 'delicious',\n",
              " 'deliciously',\n",
              " 'direct',\n",
              " 'distinctive',\n",
              " 'district',\n",
              " 'doka',\n",
              " 'don',\n",
              " 'elegant',\n",
              " 'enhanced',\n",
              " 'enticing',\n",
              " 'estate',\n",
              " 'ethiopia',\n",
              " 'ethiopian',\n",
              " 'ethiopians',\n",
              " 'evenly',\n",
              " 'excellent',\n",
              " 'exotic',\n",
              " 'fair',\n",
              " 'family',\n",
              " 'famous',\n",
              " 'fantastic',\n",
              " 'farm',\n",
              " 'farmer',\n",
              " 'farms',\n",
              " 'favorite',\n",
              " 'feel',\n",
              " 'finca',\n",
              " 'fine',\n",
              " 'finish',\n",
              " 'flavor',\n",
              " 'flavored',\n",
              " 'flavorful',\n",
              " 'flavoring',\n",
              " 'flavorings',\n",
              " 'flavors',\n",
              " 'floral',\n",
              " 'forward',\n",
              " 'fragrance',\n",
              " 'frangelico',\n",
              " 'french',\n",
              " 'fresh',\n",
              " 'fudge',\n",
              " 'gayo',\n",
              " 'gold',\n",
              " 'golden',\n",
              " 'good',\n",
              " 'great',\n",
              " 'growing',\n",
              " 'grown',\n",
              " 'guatemala',\n",
              " 'harmonious',\n",
              " 'hawaiian',\n",
              " 'hazelnut',\n",
              " 'hearty',\n",
              " 'heavy',\n",
              " 'heritage',\n",
              " 'high',\n",
              " 'hint',\n",
              " 'honey',\n",
              " 'hualalai',\n",
              " 'huila',\n",
              " 'indonesian',\n",
              " 'intense',\n",
              " 'interlaced',\n",
              " 'irish',\n",
              " 'italian',\n",
              " 'jamaica',\n",
              " 'java',\n",
              " 'kenya',\n",
              " 'kiaguthu',\n",
              " 'knows',\n",
              " 'kona',\n",
              " 'la',\n",
              " 'laced',\n",
              " 'las',\n",
              " 'lemon',\n",
              " 'lemony',\n",
              " 'light',\n",
              " 'limu',\n",
              " 'linger',\n",
              " 'liqueur',\n",
              " 'liquid',\n",
              " 'lively',\n",
              " 'll',\n",
              " 'lot',\n",
              " 'lover',\n",
              " 'lovers',\n",
              " 'low',\n",
              " 'luscious',\n",
              " 'macadamia',\n",
              " 'madres',\n",
              " 'magnificently',\n",
              " 'make',\n",
              " 'maranello',\n",
              " 'medium',\n",
              " 'mellow',\n",
              " 'mexican',\n",
              " 'mexico',\n",
              " 'middle',\n",
              " 'mild',\n",
              " 'milled',\n",
              " 'minus',\n",
              " 'mixture',\n",
              " 'moderate',\n",
              " 'moka',\n",
              " 'mountain',\n",
              " 'mountains',\n",
              " 'mouth',\n",
              " 'mouthfeel',\n",
              " 'mt',\n",
              " 'mélange',\n",
              " 'natural',\n",
              " 'naturally',\n",
              " 'notes',\n",
              " 'nuanced',\n",
              " 'nut',\n",
              " 'nuts',\n",
              " 'nutty',\n",
              " 'nyeri',\n",
              " 'offers',\n",
              " 'oil',\n",
              " 'oils',\n",
              " 'ops',\n",
              " 'orange',\n",
              " 'oregon',\n",
              " 'organic',\n",
              " 'origin',\n",
              " 'othaya',\n",
              " 'overtones',\n",
              " 'overwhelmed',\n",
              " 'owned',\n",
              " 'panama',\n",
              " 'partnerships',\n",
              " 'pecans',\n",
              " 'peru',\n",
              " 'peterson',\n",
              " 'poas',\n",
              " 'process',\n",
              " 'processed',\n",
              " 'quality',\n",
              " 'raspberry',\n",
              " 'regal',\n",
              " 'region',\n",
              " 'relationships',\n",
              " 'resulting',\n",
              " 'rica',\n",
              " 'rican',\n",
              " 'rich',\n",
              " 'richest',\n",
              " 'richness',\n",
              " 'roast',\n",
              " 'roasted',\n",
              " 'robust',\n",
              " 'round',\n",
              " 'rounded',\n",
              " 'rum',\n",
              " 'salinas',\n",
              " 'semi',\n",
              " 'sharp',\n",
              " 'sierra',\n",
              " 'silken',\n",
              " 'simply',\n",
              " 'single',\n",
              " 'sip',\n",
              " 'slightly',\n",
              " 'slopes',\n",
              " 'small',\n",
              " 'smoky',\n",
              " 'smooth',\n",
              " 'smoothness',\n",
              " 'soft',\n",
              " 'south',\n",
              " 'southeastern',\n",
              " 'sparkling',\n",
              " 'special',\n",
              " 'spice',\n",
              " 'spiced',\n",
              " 'spiciness',\n",
              " 'spicy',\n",
              " 'spirits',\n",
              " 'strong',\n",
              " 'style',\n",
              " 'subtle',\n",
              " 'sugar',\n",
              " 'sumatra',\n",
              " 'superb',\n",
              " 'sure',\n",
              " 'sweet',\n",
              " 'sweetness',\n",
              " 'syrupy',\n",
              " 'tang',\n",
              " 'tangy',\n",
              " 'taste',\n",
              " 'tempt',\n",
              " 'temptation',\n",
              " 'throat',\n",
              " 'time',\n",
              " 'toasted',\n",
              " 'toddy',\n",
              " 'tones',\n",
              " 'touch',\n",
              " 'trade',\n",
              " 'truffle',\n",
              " 'truffles',\n",
              " 'turbinado',\n",
              " 'unique',\n",
              " 'using',\n",
              " 'vanilla',\n",
              " 'variety',\n",
              " 'velvety',\n",
              " 'verbena',\n",
              " 'viennese',\n",
              " 'want',\n",
              " 'water',\n",
              " 'wild',\n",
              " 'winey',\n",
              " 'winner',\n",
              " 'winning',\n",
              " 'wonderful',\n",
              " 'zest']"
            ]
          },
          "metadata": {},
          "execution_count": 8
        }
      ],
      "source": [
        "tfidf.get_feature_names()"
      ]
    },
    {
      "cell_type": "code",
      "execution_count": 9,
      "id": "3b63c27b",
      "metadata": {
        "id": "3b63c27b"
      },
      "outputs": [],
      "source": [
        "# Import linear_kernel\n",
        "from sklearn.metrics.pairwise import linear_kernel\n",
        "\n",
        "# Compute the cosine similarity matrix\n",
        "cosine_sim = linear_kernel(tfidf_matrix, tfidf_matrix)"
      ]
    },
    {
      "cell_type": "code",
      "execution_count": 10,
      "id": "b7065537",
      "metadata": {
        "id": "b7065537",
        "outputId": "e826fb47-4cb1-41a9-c6c8-816cfa8896a0",
        "colab": {
          "base_uri": "https://localhost:8080/"
        }
      },
      "outputs": [
        {
          "output_type": "execute_result",
          "data": {
            "text/plain": [
              "(78, 78)"
            ]
          },
          "metadata": {},
          "execution_count": 10
        }
      ],
      "source": [
        "cosine_sim.shape"
      ]
    },
    {
      "cell_type": "code",
      "execution_count": 11,
      "id": "b39eb4ac",
      "metadata": {
        "scrolled": true,
        "id": "b39eb4ac",
        "outputId": "d375e352-2fbb-4bd1-ef6e-0484eb349b4c",
        "colab": {
          "base_uri": "https://localhost:8080/"
        }
      },
      "outputs": [
        {
          "output_type": "execute_result",
          "data": {
            "text/plain": [
              "array([0.06303551, 1.        , 0.03435994, 0.        , 0.16204378,\n",
              "       0.03751442, 0.1047496 , 0.05220398, 0.01354826, 0.08947585,\n",
              "       0.1035884 , 0.        , 0.01317103, 0.04637267, 0.01250463,\n",
              "       0.02828801, 0.0497072 , 0.10201494, 0.11879988, 0.09642281,\n",
              "       0.09025849, 0.07473008, 0.03020199, 0.27367482, 0.03700567,\n",
              "       0.04720272, 0.05535121, 0.05120416, 0.11499106, 0.06595802,\n",
              "       0.04029915, 0.21436814, 0.06530241, 0.04380946, 0.13808386,\n",
              "       0.03704985, 0.02666882, 0.02311476, 0.03375353, 0.10345156,\n",
              "       0.1049023 , 0.08790399, 0.08109316, 0.09465135, 0.16324527,\n",
              "       0.02759209, 0.07612926, 0.06411835, 0.07527193, 0.04393266,\n",
              "       0.02705854, 0.02499498, 0.04456052, 0.07155462, 0.02669501,\n",
              "       0.03044811, 0.07586936, 0.0488234 , 0.05206793, 0.1272307 ,\n",
              "       0.14311768, 0.        , 0.07304489, 0.11535491, 0.03268061,\n",
              "       0.02653578, 0.03122631, 0.04725396, 0.03295675, 0.01274235,\n",
              "       0.03848393, 0.028606  , 0.04673628, 0.        , 0.2818797 ,\n",
              "       0.08372182, 0.05349848, 0.03052287])"
            ]
          },
          "metadata": {},
          "execution_count": 11
        }
      ],
      "source": [
        "cosine_sim[1]"
      ]
    },
    {
      "cell_type": "code",
      "execution_count": 12,
      "id": "ed23ca86",
      "metadata": {
        "scrolled": true,
        "id": "ed23ca86",
        "outputId": "ad379087-bb10-442b-9371-c4bd7b8c5443",
        "colab": {
          "base_uri": "https://localhost:8080/"
        }
      },
      "outputs": [
        {
          "output_type": "execute_result",
          "data": {
            "text/plain": [
              "Coffee Name\n",
              "Barbary Coast Blend          0\n",
              "Bourbon Pecan                1\n",
              "Breakfast Blend              2\n",
              "Cappuccino Fudge             3\n",
              "Caramel Nut Fudge            4\n",
              "Chocolate Macadamia Nut      5\n",
              "Chocolate Raspberry Cream    6\n",
              "Cinnamon Bun                 7\n",
              "Cinnamon Frangelico          8\n",
              "Cinnamon Nut Sugar Cookie    9\n",
              "dtype: int64"
            ]
          },
          "metadata": {},
          "execution_count": 12
        }
      ],
      "source": [
        "#Construct a reverse map of indices and Coffee Names\n",
        "indices = pd.Series(metadata.index, index=metadata['Coffee Name']).drop_duplicates()\n",
        "\n",
        "indices[:10]"
      ]
    },
    {
      "cell_type": "code",
      "execution_count": 24,
      "id": "9a318e9e",
      "metadata": {
        "id": "9a318e9e"
      },
      "outputs": [],
      "source": [
        "text_file = open('RecommendationDescription.txt', 'w')\n",
        "\n",
        "text_file.write(\"CSCI 187 - Project Coffee \\n\" )\n",
        "text_file.write(\"Matthew Rahardja \\n\" )\n",
        "text_file.write(\"This Text File contains the top 5 similarity results\\n\" )\n",
        "text_file.write(\"for each Coffee Blend based on description \\n\\n\")\n",
        "\n",
        "\n",
        "for ind in metadata.index:\n",
        "    Selected_Blend = metadata['Coffee Name'][ind]\n",
        "    Selected_Description = metadata['Description'][ind]\n",
        "    idx = indices[Selected_Blend]\n",
        "\n",
        "    # Get the pairwise similarity scores of all blends with that blend\n",
        "    sim_scores = list(enumerate(cosine_sim[idx]))\n",
        "\n",
        "    # Sort the movies based on the similarity scores\n",
        "    sim_scores = sorted(sim_scores, key=lambda x: x[1], reverse=True)\n",
        "\n",
        "    # Get the scores of the 5 most similar coffee\n",
        "    sim_scores = sim_scores[1:6]\n",
        "\n",
        "    # Get the movie indices\n",
        "    coffee_indices = [i[0] for i in sim_scores]\n",
        "\n",
        "    # Return the top 10 most similar coffee\n",
        "    \n",
        "    text_file.write(\"%s\\n\" % Selected_Blend)\n",
        "    text_file.write(\"%s\\n\" % Selected_Description)\n",
        "\n",
        "    text_file.write(\"\\nBlend Index         Blend Name\\n\")\n",
        "    text_file.write(\"%s\\n\" % metadata['Coffee Name'].iloc[coffee_indices])\n",
        "    text_file.write(\"\\nBlend Index         Description\\n\")\n",
        "    text_file.write(\"%s\\n\" % metadata['Description'].iloc[coffee_indices])\n",
        "    text_file.write(\"\\nSimilarity Score\\n\")\n",
        "    text_file.write(\"%s\\n\\n\\n\\n\" % sim_scores)\n",
        "\n",
        "text_file.close()\n"
      ]
    },
    {
      "cell_type": "markdown",
      "id": "53ec2a86",
      "metadata": {
        "id": "53ec2a86"
      },
      "source": [
        "# Recommendation Based on Tasting Notes"
      ]
    },
    {
      "cell_type": "code",
      "execution_count": 14,
      "id": "53a7dedc",
      "metadata": {
        "id": "53a7dedc",
        "outputId": "fdbdc8e1-a993-4796-d2f9-78ddbe37b031",
        "colab": {
          "base_uri": "https://localhost:8080/"
        }
      },
      "outputs": [
        {
          "output_type": "execute_result",
          "data": {
            "text/plain": [
              "(78, 101)"
            ]
          },
          "metadata": {},
          "execution_count": 14
        }
      ],
      "source": [
        "#Import TfIdfVectorizer from scikit-learn\n",
        "from sklearn.feature_extraction.text import TfidfVectorizer\n",
        "\n",
        "#Define a TF-IDF Vectorizer Object. \n",
        "#Remove all english stop words such as 'the', 'a'\n",
        "#Sets all words to lowercase\n",
        "tfidf = TfidfVectorizer(analyzer='word',stop_words='english',lowercase=True)\n",
        "\n",
        "#Replace NaN with an empty string\n",
        "metadata['Tasting Notes'] = metadata['Tasting Notes'].fillna('')\n",
        "\n",
        "#Construct the required TF-IDF matrix by fitting and transforming the data\n",
        "tfidf_matrix = tfidf.fit_transform(metadata['Tasting Notes'])\n",
        "\n",
        "#Output the shape of tfidf_matrix\n",
        "tfidf_matrix.shape"
      ]
    },
    {
      "cell_type": "code",
      "execution_count": 15,
      "id": "26a450f0",
      "metadata": {
        "id": "26a450f0",
        "outputId": "e4199c11-4c3c-4fb9-ed3f-142bc884789f",
        "colab": {
          "base_uri": "https://localhost:8080/"
        }
      },
      "outputs": [
        {
          "output_type": "execute_result",
          "data": {
            "text/plain": [
              "['acidity',\n",
              " 'apple',\n",
              " 'baked',\n",
              " 'balanced',\n",
              " 'berry',\n",
              " 'bittersweet',\n",
              " 'black',\n",
              " 'blackberry',\n",
              " 'blossom',\n",
              " 'blueberry',\n",
              " 'body',\n",
              " 'bold',\n",
              " 'bourbon',\n",
              " 'bright',\n",
              " 'brown',\n",
              " 'butter',\n",
              " 'butterscotch',\n",
              " 'buttery',\n",
              " 'cane',\n",
              " 'caramel',\n",
              " 'caramelized',\n",
              " 'cedar',\n",
              " 'cherry',\n",
              " 'chocolate',\n",
              " 'cinnamon',\n",
              " 'citrus',\n",
              " 'clean',\n",
              " 'cocoa',\n",
              " 'cream',\n",
              " 'creamy',\n",
              " 'dark',\n",
              " 'deep',\n",
              " 'dried',\n",
              " 'dutch',\n",
              " 'earthiness',\n",
              " 'earthy',\n",
              " 'fig',\n",
              " 'finish',\n",
              " 'floral',\n",
              " 'florals',\n",
              " 'frangelico',\n",
              " 'fresh',\n",
              " 'fruit',\n",
              " 'fudge',\n",
              " 'grape',\n",
              " 'hazelnut',\n",
              " 'heavy',\n",
              " 'hint',\n",
              " 'hips',\n",
              " 'honey',\n",
              " 'intense',\n",
              " 'irish',\n",
              " 'jasmine',\n",
              " 'lavender',\n",
              " 'lemon',\n",
              " 'liqueur',\n",
              " 'mango',\n",
              " 'marjoram',\n",
              " 'mild',\n",
              " 'milk',\n",
              " 'molasses',\n",
              " 'notes',\n",
              " 'nutmeg',\n",
              " 'nuts',\n",
              " 'nutty',\n",
              " 'orange',\n",
              " 'peach',\n",
              " 'pecan',\n",
              " 'raisins',\n",
              " 'raspberry',\n",
              " 'rich',\n",
              " 'roasted',\n",
              " 'rose',\n",
              " 'round',\n",
              " 'rounded',\n",
              " 'rustic',\n",
              " 'semisweet',\n",
              " 'sharp',\n",
              " 'silky',\n",
              " 'smoky',\n",
              " 'smooth',\n",
              " 'soft',\n",
              " 'spice',\n",
              " 'spicy',\n",
              " 'stone',\n",
              " 'subtle',\n",
              " 'sugar',\n",
              " 'sugars',\n",
              " 'sweet',\n",
              " 'sweetness',\n",
              " 'syrupy',\n",
              " 'tangerine',\n",
              " 'toasted',\n",
              " 'toffee',\n",
              " 'turbinado',\n",
              " 'vanilla',\n",
              " 'verbena',\n",
              " 'walnut',\n",
              " 'whiskey',\n",
              " 'wild',\n",
              " 'zest']"
            ]
          },
          "metadata": {},
          "execution_count": 15
        }
      ],
      "source": [
        "tfidf.get_feature_names()"
      ]
    },
    {
      "cell_type": "code",
      "execution_count": 16,
      "id": "5bec47bf",
      "metadata": {
        "id": "5bec47bf"
      },
      "outputs": [],
      "source": [
        "# Import linear_kernel\n",
        "from sklearn.metrics.pairwise import linear_kernel\n",
        "\n",
        "# Compute the cosine similarity matrix\n",
        "cosine_sim = linear_kernel(tfidf_matrix, tfidf_matrix)"
      ]
    },
    {
      "cell_type": "code",
      "execution_count": 17,
      "metadata": {
        "id": "1TRWiTbTrNCS",
        "outputId": "52d1aede-03b8-441f-a1e6-4eb866abb0ae",
        "colab": {
          "base_uri": "https://localhost:8080/"
        }
      },
      "outputs": [
        {
          "output_type": "execute_result",
          "data": {
            "text/plain": [
              "(78, 78)"
            ]
          },
          "metadata": {},
          "execution_count": 17
        }
      ],
      "source": [
        "cosine_sim.shape"
      ],
      "id": "1TRWiTbTrNCS"
    },
    {
      "cell_type": "code",
      "execution_count": 18,
      "metadata": {
        "scrolled": true,
        "id": "IdAlKIytrNCS",
        "outputId": "3fa9be16-ba9b-4099-9898-e690cd73cfae",
        "colab": {
          "base_uri": "https://localhost:8080/"
        }
      },
      "outputs": [
        {
          "output_type": "execute_result",
          "data": {
            "text/plain": [
              "array([0.        , 1.        , 0.18803599, 0.15004225, 0.29231339,\n",
              "       0.15772381, 0.08650415, 0.16812361, 0.08742161, 0.26629077,\n",
              "       0.08919698, 0.07640756, 0.        , 0.11233114, 0.        ,\n",
              "       0.16539101, 0.19540693, 0.08919698, 0.17408865, 0.11603567,\n",
              "       0.13710735, 0.19897312, 0.        , 0.41040108, 0.15680633,\n",
              "       0.        , 0.        , 0.        , 0.32120175, 0.32120175,\n",
              "       0.        , 0.        , 0.        , 0.07024672, 0.22928213,\n",
              "       0.07486486, 0.        , 0.        , 0.06735895, 0.07974793,\n",
              "       0.        , 0.        , 0.08470553, 0.29226708, 0.11024532,\n",
              "       0.07119279, 0.08838272, 0.        , 0.07617651, 0.        ,\n",
              "       0.08339627, 0.        , 0.        , 0.        , 0.        ,\n",
              "       0.        , 0.23453785, 0.        , 0.3460151 , 0.06857572,\n",
              "       0.        , 0.18803599, 0.        , 0.28621255, 0.07410997,\n",
              "       0.14991258, 0.32357635, 0.        , 0.07529373, 0.07975852,\n",
              "       0.        , 0.08996209, 0.09133706, 0.        , 0.31358025,\n",
              "       0.41040108, 0.        , 0.        ])"
            ]
          },
          "metadata": {},
          "execution_count": 18
        }
      ],
      "source": [
        "cosine_sim[1]"
      ],
      "id": "IdAlKIytrNCS"
    },
    {
      "cell_type": "code",
      "execution_count": 19,
      "metadata": {
        "scrolled": true,
        "id": "fg9H2qgarNCS",
        "outputId": "45122d65-b8bd-44e5-c9fd-27940444520a",
        "colab": {
          "base_uri": "https://localhost:8080/"
        }
      },
      "outputs": [
        {
          "output_type": "execute_result",
          "data": {
            "text/plain": [
              "Coffee Name\n",
              "Barbary Coast Blend          0\n",
              "Bourbon Pecan                1\n",
              "Breakfast Blend              2\n",
              "Cappuccino Fudge             3\n",
              "Caramel Nut Fudge            4\n",
              "Chocolate Macadamia Nut      5\n",
              "Chocolate Raspberry Cream    6\n",
              "Cinnamon Bun                 7\n",
              "Cinnamon Frangelico          8\n",
              "Cinnamon Nut Sugar Cookie    9\n",
              "dtype: int64"
            ]
          },
          "metadata": {},
          "execution_count": 19
        }
      ],
      "source": [
        "#Construct a reverse map of indices and Coffee Names\n",
        "indices = pd.Series(metadata.index, index=metadata['Coffee Name']).drop_duplicates()\n",
        "\n",
        "indices[:10]"
      ],
      "id": "fg9H2qgarNCS"
    },
    {
      "cell_type": "code",
      "execution_count": 22,
      "id": "af9f47d3",
      "metadata": {
        "id": "af9f47d3"
      },
      "outputs": [],
      "source": [
        "text_file = open('RecommendationFlavor.txt', 'w')\n",
        "\n",
        "text_file.write(\"CSCI 187 - Project Coffee \\n\" )\n",
        "text_file.write(\"Matthew Rahardja \\n\" )\n",
        "text_file.write(\"This txt file contains the top 5 similarity results\\n\" )\n",
        "text_file.write(\"for each Coffee Blend based on Flavor Notes \\n\\n\")\n",
        "\n",
        "\n",
        "for ind in metadata.index:\n",
        "    Selected_Blend = metadata['Coffee Name'][ind]\n",
        "    Selected_Description = metadata['Tasting Notes'][ind]\n",
        "    idx = indices[Selected_Blend]\n",
        "\n",
        "    # Get the pairwise similarity scores of all blends with that blend\n",
        "    sim_scores = list(enumerate(cosine_sim[idx]))\n",
        "\n",
        "    # Sort the movies based on the similarity scores\n",
        "    sim_scores = sorted(sim_scores, key=lambda x: x[1], reverse=True)\n",
        "\n",
        "    # Get the scores of the 5 most similar coffee\n",
        "    sim_scores = sim_scores[1:6]\n",
        "\n",
        "    # Get the movie indices\n",
        "    coffee_indices = [i[0] for i in sim_scores]\n",
        "    # Return the top 10 most similar coffee\n",
        "    \n",
        "    text_file.write(\"%s\\n\" % Selected_Blend)\n",
        "    text_file.write(\"%s\\n\" % Selected_Description)\n",
        "\n",
        "    text_file.write(\"\\nBlend Index         Blend Name\\n\")\n",
        "    text_file.write(\"%s\\n\" % metadata['Coffee Name'].iloc[coffee_indices])\n",
        "    text_file.write(\"\\nBlend Index         Tasting Note\\n\")\n",
        "    text_file.write(\"%s\\n\" % metadata['Tasting Notes'].iloc[coffee_indices])\n",
        "    text_file.write(\"\\nSimilarity Score\\n\")\n",
        "    text_file.write(\"%s\\n\\n\\n\\n\" % sim_scores)\n",
        "\n",
        "text_file.close()\n"
      ]
    }
  ],
  "metadata": {
    "kernelspec": {
      "display_name": "Python 3 (ipykernel)",
      "language": "python",
      "name": "python3"
    },
    "language_info": {
      "codemirror_mode": {
        "name": "ipython",
        "version": 3
      },
      "file_extension": ".py",
      "mimetype": "text/x-python",
      "name": "python",
      "nbconvert_exporter": "python",
      "pygments_lexer": "ipython3",
      "version": "3.9.7"
    },
    "colab": {
      "provenance": []
    }
  },
  "nbformat": 4,
  "nbformat_minor": 5
}